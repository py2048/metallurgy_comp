{
 "cells": [
  {
   "cell_type": "markdown",
   "id": "68e99a2b",
   "metadata": {},
   "source": [
    "## 1.2. Tính nhiệt hàm mol tiêu chuẩn, nhiệt hàm mol và năng lượng tự do mol của vật chất ở nhiệt độ nào đó không có biến pha"
   ]
  },
  {
   "cell_type": "markdown",
   "id": "3403d50e",
   "metadata": {},
   "source": [
    "### 1.2.1. Tính nhiệt hàm mol tiêu chuẩn của vật chất theo nhiệt độ"
   ]
  },
  {
   "cell_type": "markdown",
   "id": "daa8e5b7",
   "metadata": {},
   "source": [
    "### Tính nhiệt hàm mol Ag tại 300K"
   ]
  },
  {
   "cell_type": "code",
   "execution_count": 115,
   "id": "44ee9e4b",
   "metadata": {},
   "outputs": [],
   "source": [
    "def enthalpy(T, T0, H0, A, B, C, D):\n",
    "    '''\n",
    "    Tính H(tại T) từ H0(tại T0) và các hệ số A, B, C, D trong nhiệt dung riêng của chất\n",
    "    '''\n",
    "    H = H0 + A*(T - T0) + 1/2*B*(1E-3)*(T**2 - T0**2) - C*(1E5)*(1/T - 1/T0) + 1/3*D*(1E-6)*(T**3 - T0**3)\n",
    "    return H"
   ]
  },
  {
   "cell_type": "code",
   "execution_count": 118,
   "id": "61d2bdbb",
   "metadata": {},
   "outputs": [],
   "source": [
    "# Gán các hệ số tại T=300K\n",
    "H0 = 0.\n",
    "A = 5.09\n",
    "B = 2.04E-1\n",
    "C = 0.36E0\n",
    "D = 0.\n",
    "T0 = 298.15\n",
    "T = 300.0"
   ]
  },
  {
   "cell_type": "code",
   "execution_count": 120,
   "id": "1b3e84a1",
   "metadata": {},
   "outputs": [
    {
     "name": "stdout",
     "output_type": "stream",
     "text": [
      "H =  0.010273962553499199  kcal/mol\n",
      "H =  0.04298625932384065  kcal/mol\n"
     ]
    }
   ],
   "source": [
    "# Tính H theo hàm enthalpy():\n",
    "H = enthalpy(T, T0, H0, A, B, C, D)\n",
    "# Kết quả theo kcal/mol và kJ/mol\n",
    "print(\"H = \", H/1000, \" kcal/mol\")\n",
    "print(\"H = \", H/1000*4.184, \" kcal/mol\")"
   ]
  },
  {
   "cell_type": "code",
   "execution_count": null,
   "id": "ae546934",
   "metadata": {},
   "outputs": [],
   "source": []
  }
 ],
 "metadata": {
  "kernelspec": {
   "display_name": "Python 3",
   "language": "python",
   "name": "python3"
  },
  "language_info": {
   "codemirror_mode": {
    "name": "ipython",
    "version": 3
   },
   "file_extension": ".py",
   "mimetype": "text/x-python",
   "name": "python",
   "nbconvert_exporter": "python",
   "pygments_lexer": "ipython3",
   "version": "3.8.8"
  }
 },
 "nbformat": 4,
 "nbformat_minor": 5
}
